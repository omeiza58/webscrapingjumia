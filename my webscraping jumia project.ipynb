{
 "cells": [
  {
   "cell_type": "code",
   "execution_count": null,
   "id": "cd9adba3",
   "metadata": {
    "scrolled": false
   },
   "outputs": [],
   "source": [
    "#import libraries\n",
    "\n",
    "from bs4 import BeautifulSoup\n",
    "import requests #telling beautiful soup where we are getting our data\n",
    "import smtplib #for sending emails \n",
    "import time\n",
    "import datetime\n",
    "import seaborn as sns\n",
    "import pandas as pd"
   ]
  },
  {
   "cell_type": "code",
   "execution_count": null,
   "id": "e7a39845",
   "metadata": {},
   "outputs": [],
   "source": [
    "#CONNECTING TO WEBSITE\n",
    "\n",
    "#this is the email address you want to scrape data from which for me is our jumia page \n",
    "URL = 'https://www.jumia.com.ng/galaxy-s20-5g-12gb-ram128gb-rom-12mp-64mp-12mp-0.3mp10mp-single-sim-gray-samsung-mpg1826715.html'\n",
    "\n",
    "#the headers here is generated from httphub.org/get\n",
    "headers = {\"User-Agent\": \"Mozilla/5.0 (Windows NT 10.0; Win64; x64) AppleWebKit/537.36 (KHTML, like Gecko) Chrome/109.0.0.0 Safari/537.36\"}\n",
    "          \n",
    "page = requests.get(URL, headers=headers)\n",
    "\n",
    "soup1 = BeautifulSoup(page.content, 'html.parser') #pulling content frm the page\n",
    "\n",
    "soup2 = BeautifulSoup(soup1.prettify(), 'html.parser') # this line tends to arrange the data gotten a little bit\n",
    "\n",
    "\n",
    "#print(soup1)\n",
    "\n",
    "#print(soup2)\n",
    "\n",
    "#title = soup2.find(id='h1 class')\n",
    "\n",
    "title = soup2.find ('h1').get_text() #the .get_text() will help us get only the header \n",
    "\n",
    "price = soup2.find(\"span\", class_=\"-b -ltr -tal -fs24\").get_text()    #we want the title and the price\n",
    "\n",
    "print (title, price) # display the results\n",
    "\n"
   ]
  },
  {
   "cell_type": "code",
   "execution_count": null,
   "id": "3f59703a",
   "metadata": {},
   "outputs": [],
   "source": [
    "#Stripping the extra space and unwanted characters from the data\n",
    "price = price.strip()[2:]\n",
    "title = title.strip()\n",
    "\n",
    "print (title, price)\n",
    "\n",
    "\n",
    "\n",
    "\n",
    "  \n",
    "\n",
    "\n",
    "\n",
    "\n",
    "\n",
    "    \n",
    "    "
   ]
  },
  {
   "cell_type": "code",
   "execution_count": null,
   "id": "c502dbb9",
   "metadata": {},
   "outputs": [],
   "source": [
    "#adding datetime to our data in the csv file\n",
    "\n",
    "import datetime\n",
    "\n",
    "day= datetime.date.today()\n",
    "\n",
    "\n",
    "\n",
    "print(day)"
   ]
  },
  {
   "cell_type": "code",
   "execution_count": null,
   "id": "117cccc2",
   "metadata": {},
   "outputs": [],
   "source": [
    "#we are going to import the result of our web scraping into a csv file\n",
    "import csv\n",
    "\n",
    "header =['title', 'price', 'date']\n",
    "\n",
    "data = [title, price, day]\n",
    "\n",
    "#with open ('jumia_web_scraper_dataset.csv', 'w', newline='', encoding = 'UTF8') as j:\n",
    "  #  writer = csv.writer(j)\n",
    "  #  writer.writerow(header)\n",
    "  #  writer.writerow(data)\n",
    "    \n",
    "\n"
   ]
  },
  {
   "cell_type": "code",
   "execution_count": null,
   "id": "6936082e",
   "metadata": {},
   "outputs": [],
   "source": [
    "#to idsplay or read our csv file...\n",
    "\n",
    "df = pd.read_csv(r'C:\\Users\\Suleiman\\Desktop\\MY ANALYSIS PROJECT\\WEB SCRAPING\\jumia_web_scraper_dataset.csv')\n",
    "\n",
    "#print (df)"
   ]
  },
  {
   "cell_type": "code",
   "execution_count": null,
   "id": "c6c3ccce",
   "metadata": {},
   "outputs": [],
   "source": [
    "#NOW we are adding the datat automatically to the dataset\n",
    "\n",
    "with open ('jumia_web_scraper_dataset.csv', 'a+', newline='', encoding = 'UTF8') as j:\n",
    "    writer = csv.writer(j)\n",
    "#    writer.writerow(header)\n",
    "    writer.writerow(data)\n",
    "    \n",
    "\n"
   ]
  },
  {
   "cell_type": "code",
   "execution_count": null,
   "id": "5f2efa92",
   "metadata": {},
   "outputs": [],
   "source": [
    "# to automate all our previous processes\n",
    "def pricce_update():\n",
    "    \n",
    "    URL = 'https://www.jumia.com.ng/galaxy-s20-5g-12gb-ram128gb-rom-12mp-64mp-12mp-0.3mp10mp-single-sim-gray-samsung-mpg1826715.html'\n",
    "\n",
    "    #the headers here is generated from httphub.org/get\n",
    "    headers = {\"User-Agent\": \"Mozilla/5.0 (Windows NT 10.0; Win64; x64) AppleWebKit/537.36 (KHTML, like Gecko) Chrome/109.0.0.0 Safari/537.36\"}\n",
    "          \n",
    "    page = requests.get(URL, headers=headers)\n",
    "\n",
    "    soup1 = BeautifulSoup(page.content, 'html.parser') #pulling content frm the page\n",
    "\n",
    "    soup2 = BeautifulSoup(soup1.prettify(), 'html.parser') # this line tends to arrange the data gotten a little bit\n",
    "\n",
    "\n",
    "#print(soup1)\n",
    "\n",
    "#print(soup2)\n",
    "\n",
    "#title = soup2.find(id='h1 class')\n",
    "\n",
    "    title = soup2.find ('h1').get_text() #the .get_text() will help us get only the header \n",
    "\n",
    "    price = soup2.find(\"span\", class_=\"-b -ltr -tal -fs24\").get_text()    #we want the title and the price\n",
    "\n",
    "#Stripping the extra space and unwanted characters from the data\n",
    "    price = price.strip()[2:]\n",
    "    title = title.strip()\n",
    "\n",
    "\n",
    "    import datetime\n",
    "\n",
    "    day= datetime.date.today()\n",
    "\n",
    "\n",
    "    import csv\n",
    "\n",
    "    header =['title', 'price', 'date']\n",
    "\n",
    "    data = [title, price, day]\n",
    "\n",
    "    with open ('jumia_web_scraper_dataset.csv', 'a+', newline='', encoding = 'UTF8') as j:\n",
    "        writer = csv.writer(j)\n",
    "        writer.writerow(data)\n",
    "    \n",
    "#WE can set it to send a mail when it detects a price change in the price of the item\n",
    "if (price <220000):\n",
    "    send_mail() #this mail function will be written at the bottom\n",
    "    \n",
    "\n"
   ]
  },
  {
   "cell_type": "code",
   "execution_count": null,
   "id": "64e3a914",
   "metadata": {},
   "outputs": [],
   "source": [
    "while(True):\n",
    "    pricce_update()\n",
    "    time.sleep (600)#here e can edit how long before the program reruns and update the spreadsheet\n",
    "    "
   ]
  },
  {
   "cell_type": "code",
   "execution_count": null,
   "id": "316069d5",
   "metadata": {},
   "outputs": [],
   "source": [
    "import pandas as pd\n",
    "\n",
    "df = pd.read_csv(r'C:\\Users\\Suleiman\\Desktop\\MY ANALYSIS PROJECT\\WEB SCRAPING\\jumia_web_scraper_dataset.csv')\n",
    "\n",
    "#print(df)\n",
    "\n",
    "first_20 = df.head(20)  # Retrieve the first 20 rows\n",
    "print(first_20)"
   ]
  },
  {
   "cell_type": "code",
   "execution_count": null,
   "id": "f4f67f74",
   "metadata": {},
   "outputs": [],
   "source": [
    "# we are going to program it to send a mail when the price \n",
    "#def send_mail()\n",
    "#    server = smtplib.SMTP_SSL('smtp.gmail.com',465)\n",
    "#    server.ehlo()\n",
    "#    server.starttls()\n",
    "#    server.login('danbello.dan@gmail.com', '')\n",
    "#\n",
    "subject = \"samsung galaxy s20 below #220000!!!\""
   ]
  }
 ],
 "metadata": {
  "kernelspec": {
   "display_name": "Python 3 (ipykernel)",
   "language": "python",
   "name": "python3"
  },
  "language_info": {
   "codemirror_mode": {
    "name": "ipython",
    "version": 3
   },
   "file_extension": ".py",
   "mimetype": "text/x-python",
   "name": "python",
   "nbconvert_exporter": "python",
   "pygments_lexer": "ipython3",
   "version": "3.9.7"
  }
 },
 "nbformat": 4,
 "nbformat_minor": 5
}
